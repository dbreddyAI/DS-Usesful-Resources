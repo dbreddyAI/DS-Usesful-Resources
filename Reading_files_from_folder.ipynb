{
 "cells": [
  {
   "cell_type": "markdown",
   "metadata": {},
   "source": [
    "### How to import files that start with certain chars but have different extensions\n",
    "There a folder that contains files starting with certain characters. Our task is to make a list of those file.\n",
    "### What do we need:\n",
    "1. Directory path\n",
    "2. import os"
   ]
  },
  {
   "cell_type": "markdown",
   "metadata": {},
   "source": [
    "### Method 1\n",
    "We use Python built-in 'startswith'"
   ]
  },
  {
   "cell_type": "code",
   "execution_count": 21,
   "metadata": {},
   "outputs": [],
   "source": [
    "# import os\n",
    "import os\n",
    "\n",
    "# directory path\n",
    "dir_path = \"/home/Lab_Project\"\n",
    "file_list = os.listdir(dir_path)\n",
    "\n",
    "def collect_files(file_list):\n",
    "    build_file_list = []\n",
    "    for filename in file_list:\n",
    "        if filename.startswith(\"noaa_\"): # We want all \"noaa_\" files\n",
    "            build_file_list.append(filename)\n",
    "    return build_file_list"
   ]
  },
  {
   "cell_type": "code",
   "execution_count": 23,
   "metadata": {},
   "outputs": [
    {
     "data": {
      "text/plain": [
       "['noaa_2.csv.1', 'noaa_2.csv']"
      ]
     },
     "execution_count": 23,
     "metadata": {},
     "output_type": "execute_result"
    }
   ],
   "source": [
    "dir_path = \"/home/Lab_Project\"\n",
    "file_list = os.listdir(dir_path)\n",
    "collect_files(file_list)"
   ]
  },
  {
   "cell_type": "markdown",
   "metadata": {},
   "source": [
    "### Method 2\n",
    "\n",
    "Not using built-in function but indexing method"
   ]
  },
  {
   "cell_type": "code",
   "execution_count": 27,
   "metadata": {},
   "outputs": [],
   "source": [
    "# import os\n",
    "import os\n",
    "\n",
    "# directory path\n",
    "dir_path = \"/home/Lab_Project\"\n",
    "file_list = os.listdir(dir_path)\n",
    "\n",
    "def collect_files(file_list):\n",
    "    build_file_list = []\n",
    "    for filename in file_list:\n",
    "        if filename[0:5] == 'noaa_': # We want all \"noaa_\" files\n",
    "            build_file_list.append(filename)\n",
    "    return build_file_list"
   ]
  },
  {
   "cell_type": "code",
   "execution_count": 28,
   "metadata": {},
   "outputs": [
    {
     "data": {
      "text/plain": [
       "['noaa_2.csv.1', 'noaa_2.csv']"
      ]
     },
     "execution_count": 28,
     "metadata": {},
     "output_type": "execute_result"
    }
   ],
   "source": [
    "dir_path = \"/home/Lab_Project\"\n",
    "file_list = os.listdir(dir_path)\n",
    "collect_files(file_list)"
   ]
  },
  {
   "cell_type": "markdown",
   "metadata": {},
   "source": [
    "### Method 3\n",
    "Making it more usable (generic) for any string match"
   ]
  },
  {
   "cell_type": "code",
   "execution_count": 45,
   "metadata": {},
   "outputs": [],
   "source": [
    "def collect_files(file_list, str_to_match):\n",
    "    build_file_list = []\n",
    "    x = len(str_to_match)\n",
    "    for filename in file_list:\n",
    "        if filename[0:x] == str_to_match: # We want all \"noaa_\" files\n",
    "                    build_file_list.append(filename)\n",
    "    return build_file_list"
   ]
  },
  {
   "cell_type": "code",
   "execution_count": 46,
   "metadata": {
    "scrolled": true
   },
   "outputs": [
    {
     "data": {
      "text/plain": [
       "['Untitled.txt.xlsx',\n",
       " 'Untitled.txt',\n",
       " 'Untitled.csv',\n",
       " 'Untitled.xlsx',\n",
       " 'Untitled.ipynb']"
      ]
     },
     "execution_count": 46,
     "metadata": {},
     "output_type": "execute_result"
    }
   ],
   "source": [
    "dir_path = \"/home/Lab_Project\"\n",
    "file_list = os.listdir(dir_path)\n",
    "str_to_match = \"Untitled.\"\n",
    "collect_files(file_list, str_to_match)"
   ]
  }
 ],
 "metadata": {
  "kernelspec": {
   "display_name": "Python 3",
   "language": "python",
   "name": "python3"
  },
  "language_info": {
   "codemirror_mode": {
    "name": "ipython",
    "version": 3
   },
   "file_extension": ".py",
   "mimetype": "text/x-python",
   "name": "python",
   "nbconvert_exporter": "python",
   "pygments_lexer": "ipython3",
   "version": "3.6.8"
  },
  "latex_envs": {
   "LaTeX_envs_menu_present": true,
   "autoclose": true,
   "autocomplete": true,
   "bibliofile": "biblio.bib",
   "cite_by": "apalike",
   "current_citInitial": 1,
   "eqLabelWithNumbers": true,
   "eqNumInitial": 1,
   "hotkeys": {
    "equation": "Ctrl-E",
    "itemize": "Ctrl-I"
   },
   "labels_anchors": false,
   "latex_user_defs": false,
   "report_style_numbering": false,
   "user_envs_cfg": false
  }
 },
 "nbformat": 4,
 "nbformat_minor": 2
}
